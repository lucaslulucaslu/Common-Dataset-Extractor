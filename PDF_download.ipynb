{
 "cells": [
  {
   "cell_type": "code",
   "execution_count": 1,
   "id": "96f9ee15-7e55-4f97-bbe8-1f2e08f64e13",
   "metadata": {},
   "outputs": [],
   "source": [
    "from googlesearch import search\n",
    "from pathlib import Path\n",
    "import requests\n",
    "import pandas as pd\n",
    "import os\n",
    "import time"
   ]
  },
  {
   "cell_type": "code",
   "execution_count": 4,
   "id": "c6a7e62a-7609-450a-83e5-994d075d604c",
   "metadata": {},
   "outputs": [],
   "source": [
    "df=pd.read_csv(\"..//College-Information-LLM//KnowledgeBase//colleges.csv\")"
   ]
  },
  {
   "cell_type": "code",
   "execution_count": null,
   "id": "a2649358-febd-4755-bfb5-f2855508f2c2",
   "metadata": {},
   "outputs": [],
   "source": [
    "file_type = \"filetype:pdf \"\n",
    "pdf_ids=[]\n",
    "empty_ids=[]\n",
    "for i,row in df.iterrows():\n",
    "    if row['postid']<=96868:\n",
    "        continue\n",
    "    post_id=row['postid']\n",
    "    college_name=row['name']\n",
    "    os.mkdir(\".//PDFs//\"+str(post_id))\n",
    "    query=file_type+\" \"+college_name+\" common data set 2023-2024\"\n",
    "    pdf_count=0\n",
    "    for result in search(query,sleep_interval=10):\n",
    "        url=result\n",
    "        response=requests.get(url,headers = {'User-agent': 'your bot 0.1'},verify=False,timeout=10)\n",
    "        if \"Content-Type\" in response.headers and response.headers[\"Content-Type\"]==\"application/pdf\":\n",
    "            with open(\".//PDFs//\"+str(post_id)+\"//\"+str(post_id)+\"-\"+str(pdf_count)+\".pdf\",\"wb\") as file:\n",
    "                file.write(response.content)\n",
    "                pdf_count=pdf_count+1\n",
    "    if pdf_count==0:\n",
    "        os.rmdir(\".//PDFs//\"+str(post_id))\n",
    "        pdf_ids.append(post_id)\n",
    "    else:\n",
    "        empty_ids.append(post_id)"
   ]
  },
  {
   "cell_type": "code",
   "execution_count": null,
   "id": "dcab6747-ed37-498e-87b1-19668d05c2e4",
   "metadata": {},
   "outputs": [],
   "source": []
  }
 ],
 "metadata": {
  "kernelspec": {
   "display_name": "Python 3 (ipykernel)",
   "language": "python",
   "name": "python3"
  },
  "language_info": {
   "codemirror_mode": {
    "name": "ipython",
    "version": 3
   },
   "file_extension": ".py",
   "mimetype": "text/x-python",
   "name": "python",
   "nbconvert_exporter": "python",
   "pygments_lexer": "ipython3",
   "version": "3.12.3"
  }
 },
 "nbformat": 4,
 "nbformat_minor": 5
}
