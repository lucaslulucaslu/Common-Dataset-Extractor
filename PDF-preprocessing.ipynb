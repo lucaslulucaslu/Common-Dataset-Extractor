{
 "cells": [
  {
   "cell_type": "code",
   "execution_count": 1,
   "id": "117659d9-2de6-4262-b774-c5ff2a45d78b",
   "metadata": {},
   "outputs": [],
   "source": [
    "import os"
   ]
  },
  {
   "cell_type": "code",
   "execution_count": 34,
   "id": "d56495d7-001c-4176-8e55-3ecd444fda1e",
   "metadata": {},
   "outputs": [],
   "source": [
    "\n"
   ]
  },
  {
   "cell_type": "code",
   "execution_count": 88,
   "id": "78b3c3c9-9abe-4f3a-a172-6fcdb9157d5a",
   "metadata": {},
   "outputs": [
    {
     "name": "stdout",
     "output_type": "stream",
     "text": [
      "36320 36320-0.pdf\n",
      "37773 37773-2.pdf\n",
      "38003 38003-0.pdf\n",
      "56342 56342-3.pdf\n",
      "56342 56342-4.pdf\n",
      "56360 56360-1.pdf\n",
      "56367 56367-2.pdf\n",
      "57730 57730-0.pdf\n",
      "59090 59090-0.pdf\n",
      "60134 60134-2.pdf\n",
      "96773 96773-2.pdf\n"
     ]
    }
   ],
   "source": [
    "#check which file is greater than ?\n",
    "path=\"PDFs\"\n",
    "items=os.scandir(path)\n",
    "for item in items:\n",
    "    if item.is_dir():\n",
    "        filePath=os.path.join(path,item.name)\n",
    "        files=os.scandir(filePath)\n",
    "        for file in files:\n",
    "            if file.is_file() and os.path.getsize(file)>=5000000:\n",
    "                print(item.name,file.name)\n",
    "                #os.remove(file)\n",
    "items.close()"
   ]
  },
  {
   "cell_type": "code",
   "execution_count": 89,
   "id": "77d08348-ca97-477d-8080-09df64b36bad",
   "metadata": {},
   "outputs": [
    {
     "name": "stdout",
     "output_type": "stream",
     "text": [
      "11849\n",
      "28916\n",
      "34640\n",
      "37546\n",
      "38022\n",
      "56384\n",
      "96823\n"
     ]
    }
   ],
   "source": [
    "# check which folder is empty\n",
    "items=os.scandir(path)\n",
    "for item in items:\n",
    "    if item.is_dir():\n",
    "        filePath=os.path.join(path,item.name)\n",
    "        files=os.listdir(filePath)\n",
    "        if len(files)==0:\n",
    "            print (item.name)\n",
    "items.close()"
   ]
  },
  {
   "cell_type": "code",
   "execution_count": 76,
   "id": "aa962ad6-8fdf-4527-906d-205c671da636",
   "metadata": {},
   "outputs": [
    {
     "data": {
      "text/plain": [
       "1866856"
      ]
     },
     "execution_count": 76,
     "metadata": {},
     "output_type": "execute_result"
    }
   ],
   "source": [
    "path=\".//PDFs//96820//96820-0.pdf\"\n",
    "os.path.getsize(path)"
   ]
  },
  {
   "cell_type": "code",
   "execution_count": 77,
   "id": "fb58956d-4b0d-4f4d-a838-a3a7fd9969ac",
   "metadata": {},
   "outputs": [
    {
     "data": {
      "text/plain": [
       "1866856"
      ]
     },
     "execution_count": 77,
     "metadata": {},
     "output_type": "execute_result"
    }
   ],
   "source": [
    "path=\".//PDFs//96823//96823-0.pdf\"\n",
    "os.path.getsize(path)"
   ]
  },
  {
   "cell_type": "code",
   "execution_count": null,
   "id": "4dc36463-4d95-4d71-ba2d-8ddd80a6137e",
   "metadata": {},
   "outputs": [],
   "source": []
  }
 ],
 "metadata": {
  "kernelspec": {
   "display_name": "Python 3 (ipykernel)",
   "language": "python",
   "name": "python3"
  },
  "language_info": {
   "codemirror_mode": {
    "name": "ipython",
    "version": 3
   },
   "file_extension": ".py",
   "mimetype": "text/x-python",
   "name": "python",
   "nbconvert_exporter": "python",
   "pygments_lexer": "ipython3",
   "version": "3.12.3"
  }
 },
 "nbformat": 4,
 "nbformat_minor": 5
}
