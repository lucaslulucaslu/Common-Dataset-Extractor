{
 "cells": [
  {
   "cell_type": "code",
   "execution_count": 1,
   "id": "117659d9-2de6-4262-b774-c5ff2a45d78b",
   "metadata": {},
   "outputs": [],
   "source": [
    "import os"
   ]
  },
  {
   "cell_type": "code",
   "execution_count": null,
   "id": "78b3c3c9-9abe-4f3a-a172-6fcdb9157d5a",
   "metadata": {},
   "outputs": [],
   "source": [
    "#check which file is greater than 6MB\n",
    "path=\"PDFs\"\n",
    "items=os.scandir(path)\n",
    "for item in items:\n",
    "    if item.is_dir():\n",
    "        filePath=os.path.join(path,item.name)\n",
    "        files=os.scandir(filePath)\n",
    "        for file in files:\n",
    "            if file.is_file() and os.path.getsize(file)>=6000000:\n",
    "                print(item.name,file.name)\n",
    "                #os.remove(file)\n",
    "items.close()"
   ]
  },
  {
   "cell_type": "code",
   "execution_count": null,
   "id": "77d08348-ca97-477d-8080-09df64b36bad",
   "metadata": {},
   "outputs": [],
   "source": [
    "# check which folder is empty\n",
    "items=os.scandir(path)\n",
    "for item in items:\n",
    "    if item.is_dir():\n",
    "        filePath=os.path.join(path,item.name)\n",
    "        files=os.listdir(filePath)\n",
    "        if len(files)==0:\n",
    "            print (item.name)\n",
    "items.close()"
   ]
  },
  {
   "cell_type": "code",
   "execution_count": null,
   "id": "4dc36463-4d95-4d71-ba2d-8ddd80a6137e",
   "metadata": {},
   "outputs": [],
   "source": []
  }
 ],
 "metadata": {
  "kernelspec": {
   "display_name": "Python 3 (ipykernel)",
   "language": "python",
   "name": "python3"
  },
  "language_info": {
   "codemirror_mode": {
    "name": "ipython",
    "version": 3
   },
   "file_extension": ".py",
   "mimetype": "text/x-python",
   "name": "python",
   "nbconvert_exporter": "python",
   "pygments_lexer": "ipython3",
   "version": "3.12.3"
  }
 },
 "nbformat": 4,
 "nbformat_minor": 5
}
