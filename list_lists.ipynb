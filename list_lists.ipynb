{
 "cells": [
  {
   "cell_type": "code",
   "execution_count": 53,
   "id": "8a781de0-287e-40a5-abe4-7f43fe86c4b3",
   "metadata": {},
   "outputs": [],
   "source": [
    "from googlesearch import search\n",
    "from pathlib import Path\n",
    "import requests\n",
    "import pandas as pd\n",
    "import os\n",
    "import time"
   ]
  },
  {
   "cell_type": "code",
   "execution_count": 74,
   "id": "541e6b70-f283-4602-87b0-f3dd7809514c",
   "metadata": {},
   "outputs": [
    {
     "data": {
      "text/plain": [
       "'sk-proj-I39VuWWnyXXRaz9KYWosT3BlbkFJNqXzsJKDNMETXFuWFxap'"
      ]
     },
     "execution_count": 74,
     "metadata": {},
     "output_type": "execute_result"
    }
   ],
   "source": [
    "os.environ['OPENAI_API_KEY']"
   ]
  },
  {
   "cell_type": "code",
   "execution_count": 65,
   "id": "5e493f3a-f2e3-4de7-a149-055449a9f698",
   "metadata": {},
   "outputs": [],
   "source": [
    "df=pd.read_csv(\"listlist.csv\")\n",
    "df_cs=df.copy()"
   ]
  },
  {
   "cell_type": "code",
   "execution_count": 59,
   "id": "d00a0f35-5223-489d-a04a-4f63d29f4d31",
   "metadata": {},
   "outputs": [],
   "source": [
    "for index,row in df_cs.iterrows():\n",
    "    post_id=row['postid']\n",
    "    college_name=row['name']\n",
    "    query=college_name+\" Common Data Set\"\n",
    "    count=0\n",
    "    for result in search(query,num_results=1):\n",
    "        if count<=2:\n",
    "            df_cs.loc[df_cs[df_cs['postid']==post_id].index,('url'+str(count))]=result\n",
    "            count=count+1\n",
    "        else:\n",
    "            break\n",
    "    time.sleep(5)"
   ]
  },
  {
   "cell_type": "code",
   "execution_count": 60,
   "id": "d9cd4fe5-1070-48a9-ab50-c9117a0c6d1e",
   "metadata": {},
   "outputs": [],
   "source": [
    "df_cs.to_csv(\"listlist_la\",index=False)"
   ]
  },
  {
   "cell_type": "code",
   "execution_count": null,
   "id": "b0b56996-d264-4f22-b810-41b3811c2de7",
   "metadata": {},
   "outputs": [],
   "source": [
    "df_cs"
   ]
  },
  {
   "cell_type": "code",
   "execution_count": 69,
   "id": "89f184f5-9162-45d1-bb2d-d62d6ce5795e",
   "metadata": {},
   "outputs": [],
   "source": [
    "row=df_cs[df_cs['postid']==96770].iloc[0]\n",
    "post_id=row['postid']\n",
    "college_name=row['name']\n",
    "query=college_name+\" Common Data Set\""
   ]
  },
  {
   "cell_type": "code",
   "execution_count": 72,
   "id": "df68e6d5-a1d9-4b94-aaca-1ef96652bd08",
   "metadata": {},
   "outputs": [
    {
     "name": "stdout",
     "output_type": "stream",
     "text": [
      "https://smumn.edu/wp-content/uploads/2022/09/CDS_2019-2020.pdf\n",
      "https://idr.umn.edu/sites/idr.umn.edu/files/cds_2022_2023_tc.pdf\n",
      "https://smumn.edu/wp-content/uploads/2022/09/CDS_2017-2018.pdf\n",
      "https://idr.umn.edu/institutional-metrics-compliance-reporting/twin-cities-campus-factbook\n",
      "https://www.saintmarys.edu/institutional-research/ir/common-data\n",
      "https://oir.d.umn.edu/common-data-set\n",
      "https://datausa.io/profile/university/saint-marys-university-of-minnesota\n",
      "https://msmary.edu/consumer-information/files/common-data-set-2022-2023.pdf\n",
      "https://www.quora.com/What-was-the-best-historical-novel-you-ever-read-about-what-it-was-like-to-live-during-the-time-of-the-American-Civil-War\n",
      "https://www.quora.com/How-likely-is-it-that-USC-and-Alabama-two-of-the-most-disappointing-teams-in-college-basketball-will-make-the-NCAA-Tournament\n",
      "https://www.reddit.com/r/gradadmissions/comments/dthg63/lets_make_this_a_chance_me_unofficial_thread/\n"
     ]
    }
   ],
   "source": [
    "for result in search(query):\n",
    "    print(result)"
   ]
  },
  {
   "cell_type": "code",
   "execution_count": 73,
   "id": "2449c50b-8ad8-4d73-a11c-45a70cc54f9f",
   "metadata": {},
   "outputs": [
    {
     "data": {
      "text/plain": [
       "\"Saint Mary's University of Minnesota\""
      ]
     },
     "execution_count": 73,
     "metadata": {},
     "output_type": "execute_result"
    }
   ],
   "source": [
    "college_name"
   ]
  },
  {
   "cell_type": "code",
   "execution_count": null,
   "id": "329157fe-4f21-4251-b8d1-3dd917a2a9f5",
   "metadata": {},
   "outputs": [],
   "source": []
  }
 ],
 "metadata": {
  "kernelspec": {
   "display_name": "Python 3 (ipykernel)",
   "language": "python",
   "name": "python3"
  },
  "language_info": {
   "codemirror_mode": {
    "name": "ipython",
    "version": 3
   },
   "file_extension": ".py",
   "mimetype": "text/x-python",
   "name": "python",
   "nbconvert_exporter": "python",
   "pygments_lexer": "ipython3",
   "version": "3.12.3"
  }
 },
 "nbformat": 4,
 "nbformat_minor": 5
}
